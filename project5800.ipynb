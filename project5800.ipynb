{
  "cells": [
    {
      "cell_type": "markdown",
      "metadata": {
        "id": "view-in-github",
        "colab_type": "text"
      },
      "source": [
        "<a href=\"https://colab.research.google.com/github/venkatanagaakshita/Analysis-and-Prediction-of-Reopened-Questions-in-Stack-Overflow./blob/main/project5800.ipynb\" target=\"_parent\"><img src=\"https://colab.research.google.com/assets/colab-badge.svg\" alt=\"Open In Colab\"/></a>"
      ]
    },
    {
      "cell_type": "code",
      "source": [
        "import numpy as np\n",
        "import pandas as pd\n",
        "from sklearn.model_selection import train_test_split\n",
        "from sklearn.linear_model import LogisticRegression\n",
        "from sklearn.preprocessing import MinMaxScaler\n",
        "from sklearn.metrics import accuracy_score,  plot_confusion_matrix, mean_absolute_error, mean_squared_error, classification_report, confusion_matrix, r2_score\n",
        "from sklearn import tree\n",
        "import seaborn as sns\n",
        "import statsmodels.api as sm\n",
        "import matplotlib.pyplot as plt"
      ],
      "metadata": {
        "colab": {
          "base_uri": "https://localhost:8080/"
        },
        "id": "KUiq8TU2Y-KI",
        "outputId": "3e81e92f-136a-4efd-91fa-8393004fb449"
      },
      "execution_count": 32,
      "outputs": [
        {
          "output_type": "stream",
          "name": "stderr",
          "text": [
            "/usr/local/lib/python3.7/dist-packages/statsmodels/tools/_testing.py:19: FutureWarning: pandas.util.testing is deprecated. Use the functions in the public API at pandas.testing instead.\n",
            "  import pandas.util.testing as tm\n"
          ]
        }
      ]
    },
    {
      "cell_type": "code",
      "execution_count": 1,
      "metadata": {
        "colab": {
          "base_uri": "https://localhost:8080/"
        },
        "id": "ueKGVtBc4Wpg",
        "outputId": "ed002672-b1ff-4826-be1e-7a72087b3bb7"
      },
      "outputs": [
        {
          "output_type": "stream",
          "name": "stdout",
          "text": [
            "32561\n"
          ]
        }
      ],
      "source": [
        "import pandas as pd\n",
        "\n",
        "rd = pd.read_csv(\"/content/drive/MyDrive/reopened_dataset.csv\")\n",
        "\n",
        "print(len(rd))\n",
        "\n"
      ]
    },
    {
      "cell_type": "code",
      "execution_count": 2,
      "metadata": {
        "colab": {
          "base_uri": "https://localhost:8080/"
        },
        "id": "ZVh-z_Y54pxf",
        "outputId": "69c49eb5-97d8-4a03-b6e2-9ceefaf1d914"
      },
      "outputs": [
        {
          "output_type": "stream",
          "name": "stdout",
          "text": [
            "536934\n"
          ]
        }
      ],
      "source": [
        "cd = pd.read_csv(\"/content/drive/MyDrive/closed_dataset.csv\")\n",
        "cd.head()\n",
        "print(len(cd))"
      ]
    },
    {
      "cell_type": "code",
      "execution_count": 3,
      "metadata": {
        "colab": {
          "base_uri": "https://localhost:8080/"
        },
        "id": "_gqI3-pM4XQe",
        "outputId": "6817d653-f5f6-42db-8663-c43a9b303e11"
      },
      "outputs": [
        {
          "output_type": "stream",
          "name": "stdout",
          "text": [
            "31641\n"
          ]
        }
      ],
      "source": [
        "allIds = list(set(list(rd.post_id)))\n",
        "print(len(allIds))"
      ]
    },
    {
      "cell_type": "code",
      "execution_count": 6,
      "metadata": {
        "id": "Kf0opHJa5efx"
      },
      "outputs": [],
      "source": [
        "cd = cd[~cd['post_id'].isin(allIds)] #To get closed questions which were never reopened\n",
        "cd = cd[:31641]"
      ]
    },
    {
      "cell_type": "code",
      "execution_count": 7,
      "metadata": {
        "colab": {
          "base_uri": "https://localhost:8080/",
          "height": 472
        },
        "id": "wmqce0Ul8UWR",
        "outputId": "9bc25eb8-235e-4e44-caff-d0f17c8736cb"
      },
      "outputs": [
        {
          "output_type": "stream",
          "name": "stdout",
          "text": [
            "31641\n"
          ]
        },
        {
          "output_type": "execute_result",
          "data": {
            "text/plain": [
              "    post_id  post_history_type_id                creation_date  \\\n",
              "0    333271                    10  2012-07-26 22:57:24.717 UTC   \n",
              "1    165404                    10  2012-07-19 15:08:37.483 UTC   \n",
              "2  28633062                    10  2015-02-20 16:08:35.877 UTC   \n",
              "3  13427847                    10  2013-01-28 19:11:53.517 UTC   \n",
              "4   4307305                    10  2010-11-30 15:58:07.497 UTC   \n",
              "\n",
              "                                                body  comment_count  \\\n",
              "0  <p>Having recently come across <a href= http:/...              0   \n",
              "1  <p>I'm looking for some good references for le...              5   \n",
              "2  <p>Not able to compile and it is showing <stro...              0   \n",
              "3  <p>Example: -</p> <pre><code>$arrayName = arra...              2   \n",
              "4  <blockquote> <p><strong>Possible Duplicate:</s...              1   \n",
              "\n",
              "   answer_count           last_activity_date  \\\n",
              "0             6   2014-12-14 15:22:36.97 UTC   \n",
              "1             8   2011-04-22 08:29:25.06 UTC   \n",
              "2             1  2015-02-20 15:56:40.373 UTC   \n",
              "3             1  2012-11-17 05:15:25.463 UTC   \n",
              "4             1  2010-11-29 19:39:47.513 UTC   \n",
              "\n",
              "                                  tags  owner_user_id  favorite_count  score  \\\n",
              "0                          factor-lang        38803.0            18.0     26   \n",
              "1                     c#|f#|2d|physics        16942.0            42.0     42   \n",
              "2                                 java      3191934.0             NaN     -5   \n",
              "3                                  php            NaN             NaN      1   \n",
              "4  asp.net|asp.net-mvc|iis|file-upload            NaN             NaN      0   \n",
              "\n",
              "   view_count  \n",
              "0        3466  \n",
              "1       11636  \n",
              "2          51  \n",
              "3          81  \n",
              "4        2351  "
            ],
            "text/html": [
              "\n",
              "  <div id=\"df-80c2cb6a-6f8d-4337-bc0c-b33c8d210948\">\n",
              "    <div class=\"colab-df-container\">\n",
              "      <div>\n",
              "<style scoped>\n",
              "    .dataframe tbody tr th:only-of-type {\n",
              "        vertical-align: middle;\n",
              "    }\n",
              "\n",
              "    .dataframe tbody tr th {\n",
              "        vertical-align: top;\n",
              "    }\n",
              "\n",
              "    .dataframe thead th {\n",
              "        text-align: right;\n",
              "    }\n",
              "</style>\n",
              "<table border=\"1\" class=\"dataframe\">\n",
              "  <thead>\n",
              "    <tr style=\"text-align: right;\">\n",
              "      <th></th>\n",
              "      <th>post_id</th>\n",
              "      <th>post_history_type_id</th>\n",
              "      <th>creation_date</th>\n",
              "      <th>body</th>\n",
              "      <th>comment_count</th>\n",
              "      <th>answer_count</th>\n",
              "      <th>last_activity_date</th>\n",
              "      <th>tags</th>\n",
              "      <th>owner_user_id</th>\n",
              "      <th>favorite_count</th>\n",
              "      <th>score</th>\n",
              "      <th>view_count</th>\n",
              "    </tr>\n",
              "  </thead>\n",
              "  <tbody>\n",
              "    <tr>\n",
              "      <th>0</th>\n",
              "      <td>333271</td>\n",
              "      <td>10</td>\n",
              "      <td>2012-07-26 22:57:24.717 UTC</td>\n",
              "      <td>&lt;p&gt;Having recently come across &lt;a href= http:/...</td>\n",
              "      <td>0</td>\n",
              "      <td>6</td>\n",
              "      <td>2014-12-14 15:22:36.97 UTC</td>\n",
              "      <td>factor-lang</td>\n",
              "      <td>38803.0</td>\n",
              "      <td>18.0</td>\n",
              "      <td>26</td>\n",
              "      <td>3466</td>\n",
              "    </tr>\n",
              "    <tr>\n",
              "      <th>1</th>\n",
              "      <td>165404</td>\n",
              "      <td>10</td>\n",
              "      <td>2012-07-19 15:08:37.483 UTC</td>\n",
              "      <td>&lt;p&gt;I'm looking for some good references for le...</td>\n",
              "      <td>5</td>\n",
              "      <td>8</td>\n",
              "      <td>2011-04-22 08:29:25.06 UTC</td>\n",
              "      <td>c#|f#|2d|physics</td>\n",
              "      <td>16942.0</td>\n",
              "      <td>42.0</td>\n",
              "      <td>42</td>\n",
              "      <td>11636</td>\n",
              "    </tr>\n",
              "    <tr>\n",
              "      <th>2</th>\n",
              "      <td>28633062</td>\n",
              "      <td>10</td>\n",
              "      <td>2015-02-20 16:08:35.877 UTC</td>\n",
              "      <td>&lt;p&gt;Not able to compile and it is showing &lt;stro...</td>\n",
              "      <td>0</td>\n",
              "      <td>1</td>\n",
              "      <td>2015-02-20 15:56:40.373 UTC</td>\n",
              "      <td>java</td>\n",
              "      <td>3191934.0</td>\n",
              "      <td>NaN</td>\n",
              "      <td>-5</td>\n",
              "      <td>51</td>\n",
              "    </tr>\n",
              "    <tr>\n",
              "      <th>3</th>\n",
              "      <td>13427847</td>\n",
              "      <td>10</td>\n",
              "      <td>2013-01-28 19:11:53.517 UTC</td>\n",
              "      <td>&lt;p&gt;Example: -&lt;/p&gt; &lt;pre&gt;&lt;code&gt;$arrayName = arra...</td>\n",
              "      <td>2</td>\n",
              "      <td>1</td>\n",
              "      <td>2012-11-17 05:15:25.463 UTC</td>\n",
              "      <td>php</td>\n",
              "      <td>NaN</td>\n",
              "      <td>NaN</td>\n",
              "      <td>1</td>\n",
              "      <td>81</td>\n",
              "    </tr>\n",
              "    <tr>\n",
              "      <th>4</th>\n",
              "      <td>4307305</td>\n",
              "      <td>10</td>\n",
              "      <td>2010-11-30 15:58:07.497 UTC</td>\n",
              "      <td>&lt;blockquote&gt; &lt;p&gt;&lt;strong&gt;Possible Duplicate:&lt;/s...</td>\n",
              "      <td>1</td>\n",
              "      <td>1</td>\n",
              "      <td>2010-11-29 19:39:47.513 UTC</td>\n",
              "      <td>asp.net|asp.net-mvc|iis|file-upload</td>\n",
              "      <td>NaN</td>\n",
              "      <td>NaN</td>\n",
              "      <td>0</td>\n",
              "      <td>2351</td>\n",
              "    </tr>\n",
              "  </tbody>\n",
              "</table>\n",
              "</div>\n",
              "      <button class=\"colab-df-convert\" onclick=\"convertToInteractive('df-80c2cb6a-6f8d-4337-bc0c-b33c8d210948')\"\n",
              "              title=\"Convert this dataframe to an interactive table.\"\n",
              "              style=\"display:none;\">\n",
              "        \n",
              "  <svg xmlns=\"http://www.w3.org/2000/svg\" height=\"24px\"viewBox=\"0 0 24 24\"\n",
              "       width=\"24px\">\n",
              "    <path d=\"M0 0h24v24H0V0z\" fill=\"none\"/>\n",
              "    <path d=\"M18.56 5.44l.94 2.06.94-2.06 2.06-.94-2.06-.94-.94-2.06-.94 2.06-2.06.94zm-11 1L8.5 8.5l.94-2.06 2.06-.94-2.06-.94L8.5 2.5l-.94 2.06-2.06.94zm10 10l.94 2.06.94-2.06 2.06-.94-2.06-.94-.94-2.06-.94 2.06-2.06.94z\"/><path d=\"M17.41 7.96l-1.37-1.37c-.4-.4-.92-.59-1.43-.59-.52 0-1.04.2-1.43.59L10.3 9.45l-7.72 7.72c-.78.78-.78 2.05 0 2.83L4 21.41c.39.39.9.59 1.41.59.51 0 1.02-.2 1.41-.59l7.78-7.78 2.81-2.81c.8-.78.8-2.07 0-2.86zM5.41 20L4 18.59l7.72-7.72 1.47 1.35L5.41 20z\"/>\n",
              "  </svg>\n",
              "      </button>\n",
              "      \n",
              "  <style>\n",
              "    .colab-df-container {\n",
              "      display:flex;\n",
              "      flex-wrap:wrap;\n",
              "      gap: 12px;\n",
              "    }\n",
              "\n",
              "    .colab-df-convert {\n",
              "      background-color: #E8F0FE;\n",
              "      border: none;\n",
              "      border-radius: 50%;\n",
              "      cursor: pointer;\n",
              "      display: none;\n",
              "      fill: #1967D2;\n",
              "      height: 32px;\n",
              "      padding: 0 0 0 0;\n",
              "      width: 32px;\n",
              "    }\n",
              "\n",
              "    .colab-df-convert:hover {\n",
              "      background-color: #E2EBFA;\n",
              "      box-shadow: 0px 1px 2px rgba(60, 64, 67, 0.3), 0px 1px 3px 1px rgba(60, 64, 67, 0.15);\n",
              "      fill: #174EA6;\n",
              "    }\n",
              "\n",
              "    [theme=dark] .colab-df-convert {\n",
              "      background-color: #3B4455;\n",
              "      fill: #D2E3FC;\n",
              "    }\n",
              "\n",
              "    [theme=dark] .colab-df-convert:hover {\n",
              "      background-color: #434B5C;\n",
              "      box-shadow: 0px 1px 3px 1px rgba(0, 0, 0, 0.15);\n",
              "      filter: drop-shadow(0px 1px 2px rgba(0, 0, 0, 0.3));\n",
              "      fill: #FFFFFF;\n",
              "    }\n",
              "  </style>\n",
              "\n",
              "      <script>\n",
              "        const buttonEl =\n",
              "          document.querySelector('#df-80c2cb6a-6f8d-4337-bc0c-b33c8d210948 button.colab-df-convert');\n",
              "        buttonEl.style.display =\n",
              "          google.colab.kernel.accessAllowed ? 'block' : 'none';\n",
              "\n",
              "        async function convertToInteractive(key) {\n",
              "          const element = document.querySelector('#df-80c2cb6a-6f8d-4337-bc0c-b33c8d210948');\n",
              "          const dataTable =\n",
              "            await google.colab.kernel.invokeFunction('convertToInteractive',\n",
              "                                                     [key], {});\n",
              "          if (!dataTable) return;\n",
              "\n",
              "          const docLinkHtml = 'Like what you see? Visit the ' +\n",
              "            '<a target=\"_blank\" href=https://colab.research.google.com/notebooks/data_table.ipynb>data table notebook</a>'\n",
              "            + ' to learn more about interactive tables.';\n",
              "          element.innerHTML = '';\n",
              "          dataTable['output_type'] = 'display_data';\n",
              "          await google.colab.output.renderOutput(dataTable, element);\n",
              "          const docLink = document.createElement('div');\n",
              "          docLink.innerHTML = docLinkHtml;\n",
              "          element.appendChild(docLink);\n",
              "        }\n",
              "      </script>\n",
              "    </div>\n",
              "  </div>\n",
              "  "
            ]
          },
          "metadata": {},
          "execution_count": 7
        }
      ],
      "source": [
        "print(len(cd))\n",
        "cd.head()"
      ]
    },
    {
      "cell_type": "code",
      "execution_count": 8,
      "metadata": {
        "id": "dAIYJhg09CEc"
      },
      "outputs": [],
      "source": [
        "def getDomainsOfExternalLinks(totalTags):\n",
        "    domainDict = {}\n",
        "    for i in totalTags:\n",
        "        if i in domainDict.keys(): \n",
        "          existingCount = domainDict[i] + 1\n",
        "          domainDict.update({i:existingCount})\n",
        "        else:\n",
        "          domainDict[i] = 1\n",
        "    return domainDict"
      ]
    },
    {
      "cell_type": "code",
      "execution_count": 9,
      "metadata": {
        "colab": {
          "base_uri": "https://localhost:8080/"
        },
        "id": "ZuRx6xDijt64",
        "outputId": "b4e27583-0ca7-47c1-aea3-0336d655401e"
      },
      "outputs": [
        {
          "output_type": "stream",
          "name": "stdout",
          "text": [
            "31641\n"
          ]
        }
      ],
      "source": [
        "import matplotlib.pyplot as plt\n",
        "totalTags = []\n",
        "for i in cd.tags:\n",
        "    totalTags.append(i)\n",
        "\n",
        "print(len(totalTags))\n",
        "\n",
        "domainDict = getDomainsOfExternalLinks(totalTags)\n",
        "\n",
        "top20Domains = dict(sorted(domainDict.items(), key = lambda item: item[1], reverse=True)[:20])\n",
        "\n",
        "#Bar graph of top 20 domains in external links\n",
        "keys1 = top20Domains.keys()\n",
        "values1 = top20Domains.values()"
      ]
    },
    {
      "cell_type": "code",
      "execution_count": 11,
      "metadata": {
        "colab": {
          "base_uri": "https://localhost:8080/",
          "height": 439
        },
        "id": "YIMYFXMEoQZ_",
        "outputId": "44f9ea5e-50b2-40c4-8814-6595b42dc80c"
      },
      "outputs": [
        {
          "output_type": "display_data",
          "data": {
            "text/plain": [
              "<Figure size 720x360 with 1 Axes>"
            ],
            "image/png": "[encoded data removed]"
          },
          "metadata": {
            "needs_background": "light"
          }
        }
      ],
      "source": [
        "import matplotlib.pyplot as plt\n",
        "totalTags = []\n",
        "for i in rd.tags:\n",
        "    totalTags.append(i)\n",
        "\n",
        "\n",
        "\n",
        "domainDict = getDomainsOfExternalLinks(totalTags)\n",
        "\n",
        "top20Domains = dict(sorted(domainDict.items(), key = lambda item: item[1], reverse=True)[:20])\n",
        "\n",
        "#Bar graph of top 20 domains in external links\n",
        "keys2 = top20Domains.keys()\n",
        "values2 = top20Domains.values()\n",
        "plt.figure(figsize=(10, 5))\n",
        "plt.xticks(rotation=90)\n",
        "plt.bar(keys1, values1, color = (0.6,0.4,0.5), label = 'Non-reopened')\n",
        "plt.bar(keys2, values2, color = (0.9,0.9,0.2), label = 'Reopened')\n",
        "plt.legend()\n",
        "plt.savefig('FIG 1.pdf', dpi=500)"
      ]
    },
    {
      "cell_type": "code",
      "execution_count": 12,
      "metadata": {
        "id": "6thDxhAsrudJ"
      },
      "outputs": [],
      "source": [
        "def getCreationDates(totalCdates):\n",
        "    domainDict = {}\n",
        "    for i in totalCdates:\n",
        "        if i in domainDict.keys(): \n",
        "          existingCount = domainDict[i] + 1\n",
        "          domainDict.update({i:existingCount})\n",
        "        else:\n",
        "          domainDict[i] = 1\n",
        "    return domainDict"
      ]
    },
    {
      "cell_type": "code",
      "execution_count": 13,
      "metadata": {
        "id": "o2Mx_9_UsQJs"
      },
      "outputs": [],
      "source": [
        "from datetime import datetime\n",
        "totalCdates = []\n",
        "\n",
        "for i in cd.creation_date:\n",
        "  temp = datetime.strptime(i[0:10], \"%Y-%m-%d\")\n",
        "  totalCdates.append(temp.year)\n",
        "\n",
        "\n",
        "from datetime import datetime\n",
        "totalRdates = []\n",
        "\n",
        "for i in rd.creation_date:\n",
        "  temp = datetime.strptime(i[0:10], \"%Y-%m-%d\")\n",
        "  totalRdates.append(temp.year)\n"
      ]
    },
    {
      "cell_type": "code",
      "execution_count": 14,
      "metadata": {
        "colab": {
          "base_uri": "https://localhost:8080/",
          "height": 335
        },
        "id": "LFm06MlkufxU",
        "outputId": "e2b69833-7d1a-43b3-9d02-094b09ecf758"
      },
      "outputs": [
        {
          "output_type": "display_data",
          "data": {
            "text/plain": [
              "<Figure size 720x360 with 1 Axes>"
            ],
            "image/png": "[encoded data removed]"
          },
          "metadata": {
            "needs_background": "light"
          }
        }
      ],
      "source": [
        "domainDict = getCreationDates(totalCdates)\n",
        "\n",
        "top20Y = dict(sorted(domainDict.items(), key = lambda item: item[1], reverse=True)[:20])\n",
        "\n",
        "#Bar graph of top 20 Years in Creation dates\n",
        "keys = top20Y.keys()\n",
        "values = top20Y.values()\n",
        "plt.figure(figsize=(10, 5))\n",
        "plt.xticks(rotation=90)\n",
        "plt.bar(keys, values)\n",
        "plt.savefig('FIG 2.pdf', dpi=500)"
      ]
    },
    {
      "cell_type": "code",
      "execution_count": 15,
      "metadata": {
        "colab": {
          "base_uri": "https://localhost:8080/",
          "height": 335
        },
        "id": "4msrA0GYvUoP",
        "outputId": "7165b2c2-9771-4a30-fc34-26ffa243f649"
      },
      "outputs": [
        {
          "output_type": "display_data",
          "data": {
            "text/plain": [
              "<Figure size 720x360 with 1 Axes>"
            ],
            "image/png": "[encoded data removed]"
          },
          "metadata": {
            "needs_background": "light"
          }
        }
      ],
      "source": [
        "domainDict = getCreationDates(totalRdates)\n",
        "\n",
        "top20Y = dict(sorted(domainDict.items(), key = lambda item: item[1], reverse=True)[:20])\n",
        "\n",
        "#Bar graph of top 20 Years in Creation dates\n",
        "keys = top20Y.keys()\n",
        "values = top20Y.values()\n",
        "plt.figure(figsize=(10, 5))\n",
        "plt.xticks(rotation=90)\n",
        "plt.bar(keys, values)\n",
        "plt.savefig('FIG 3.pdf', dpi=500)"
      ]
    },
    {
      "cell_type": "code",
      "execution_count": 16,
      "metadata": {
        "colab": {
          "base_uri": "https://localhost:8080/"
        },
        "id": "AO-HWaFfxBt8",
        "outputId": "464c70be-491c-46b2-ecdf-063f589e5aba"
      },
      "outputs": [
        {
          "output_type": "stream",
          "name": "stdout",
          "text": [
            "OrderedDict([(2008, 31), (2009, 256), (2010, 936), (2011, 3665), (2012, 9286), (2013, 13825), (2014, 13032), (2015, 8739), (2016, 5640), (2017, 1723), (2018, 1594), (2019, 1431), (2020, 988), (2021, 893), (2022, 160)])\n"
          ]
        }
      ],
      "source": [
        "import collections\n",
        "totalAnswercount1 = []\n",
        "dict_logic = {}\n",
        "sum = 0\n",
        "for index in cd.index:\n",
        "  temp1 = cd['creation_date'][index]\n",
        "  \n",
        "  temp = datetime.strptime(temp1[0:10], \"%Y-%m-%d\")\n",
        "  if temp.year in dict_logic:\n",
        "    sum = dict_logic.get(temp.year) + cd['answer_count'][index]\n",
        "    d1 = {temp.year: sum}\n",
        "    dict_logic.update(d1)\n",
        "  else:\n",
        "    dict_logic[temp.year] = cd['answer_count'][index]\n",
        "od1 = collections.OrderedDict(sorted(dict_logic.items()))\n",
        "print((od1))\n"
      ]
    },
    {
      "cell_type": "code",
      "execution_count": 17,
      "metadata": {
        "colab": {
          "base_uri": "https://localhost:8080/",
          "height": 335
        },
        "id": "dMYWNJDY1Ar1",
        "outputId": "ccc6e437-896d-4b34-f29e-2113ab5386d7"
      },
      "outputs": [
        {
          "output_type": "display_data",
          "data": {
            "text/plain": [
              "<Figure size 1080x360 with 1 Axes>"
            ],
            "image/png": "[encoded data removed]"
          },
          "metadata": {
            "needs_background": "light"
          }
        }
      ],
      "source": [
        "totalAnswercount2 = []\n",
        "dict_logic = {}\n",
        "sum = 0\n",
        "for index in rd.index:\n",
        "  temp1 = rd['creation_date'][index]\n",
        "  \n",
        "  temp = datetime.strptime(temp1[0:10], \"%Y-%m-%d\")\n",
        "  if temp.year in dict_logic:\n",
        "    sum = dict_logic.get(temp.year) + rd['answer_count'][index]\n",
        "    d1 = {temp.year: sum}\n",
        "    dict_logic.update(d1)\n",
        "  else:\n",
        "    dict_logic[temp.year] = rd['answer_count'][index]\n",
        "dict_logic[2008] = 0\n",
        "od2 = collections.OrderedDict(sorted(dict_logic.items()))\n",
        "\n",
        "\n",
        "\n",
        "keys = list(od1.keys())\n",
        "\n",
        "\n",
        "plt.figure(figsize=(15, 5))\n",
        "plt.xticks(rotation=90)\n",
        "plt.plot(keys, list(od1.values()), color = (0.6,0.4,0.5), label = 'Non-reopened')\n",
        "plt.plot(keys, list(od2.values()), color = (0.9,0.4,0.2), label = 'Reopened')\n",
        "plt.legend()\n",
        "plt.savefig('FIG 4.pdf', dpi=500)\n"
      ]
    },
    {
      "cell_type": "code",
      "execution_count": 18,
      "metadata": {
        "colab": {
          "base_uri": "https://localhost:8080/"
        },
        "id": "lE-s2EOiDLo3",
        "outputId": "abe8c2a1-52ca-4d91-e954-22349dfe2955"
      },
      "outputs": [
        {
          "output_type": "stream",
          "name": "stdout",
          "text": [
            "OrderedDict([(2008, 21), (2009, 150), (2010, 1028), (2011, 3708), (2012, 10683), (2013, 19629), (2014, 21115), (2015, 16411), (2016, 10595), (2017, 1028), (2018, 950), (2019, 845), (2020, 656), (2021, 626), (2022, 101)])\n"
          ]
        }
      ],
      "source": [
        "totalCommentcount1 = []\n",
        "\n",
        "dict_logic = {}\n",
        "sum = 0\n",
        "for index in cd.index:\n",
        "  temp1 = cd['creation_date'][index]\n",
        "  \n",
        "  temp = datetime.strptime(temp1[0:10], \"%Y-%m-%d\")\n",
        "  if temp.year in dict_logic:\n",
        "    sum = dict_logic.get(temp.year) + cd['comment_count'][index]\n",
        "    d1 = {temp.year: sum}\n",
        "    dict_logic.update(d1)\n",
        "  else:\n",
        "    dict_logic[temp.year] = cd['comment_count'][index]\n",
        "od1 = collections.OrderedDict(sorted(dict_logic.items()))\n",
        "print((od1))"
      ]
    },
    {
      "cell_type": "code",
      "execution_count": 19,
      "metadata": {
        "colab": {
          "base_uri": "https://localhost:8080/",
          "height": 372
        },
        "id": "odjthqvsW88o",
        "outputId": "839a464b-7074-4397-f672-97932b18a636"
      },
      "outputs": [
        {
          "output_type": "stream",
          "name": "stdout",
          "text": [
            "OrderedDict([(2008, 0), (2009, 2765), (2010, 4213), (2011, 6304), (2012, 9493), (2013, 27439), (2014, 37807), (2015, 39962), (2016, 20838), (2017, 2110), (2018, 1931), (2019, 1927), (2020, 2593), (2021, 1581), (2022, 227)])\n"
          ]
        },
        {
          "output_type": "display_data",
          "data": {
            "text/plain": [
              "<Figure size 1080x360 with 1 Axes>"
            ],
            "image/png": "[encoded data removed]"
          },
          "metadata": {
            "needs_background": "light"
          }
        }
      ],
      "source": [
        "totalCommentcount2 = []\n",
        "\n",
        "dict_logic = {}\n",
        "sum = 0\n",
        "for index in rd.index:\n",
        "  temp1 = rd['creation_date'][index]\n",
        "  \n",
        "  temp = datetime.strptime(temp1[0:10], \"%Y-%m-%d\")\n",
        "  if temp.year in dict_logic:\n",
        "    sum = dict_logic.get(temp.year) + rd['comment_count'][index]\n",
        "    d1 = {temp.year: sum}\n",
        "    dict_logic.update(d1)\n",
        "  else:\n",
        "    dict_logic[temp.year] = rd['comment_count'][index]\n",
        "dict_logic[2008] = 0    \n",
        "od2 = collections.OrderedDict(sorted(dict_logic.items()))\n",
        "\n",
        "print(od2)\n",
        "\n",
        "keys = list(od1.keys())\n",
        "\n",
        "\n",
        "plt.figure(figsize=(15, 5))\n",
        "plt.xticks(rotation=90)\n",
        "plt.plot(keys, list(od1.values()), color = (0.6,0.4,0.5), label = 'Non-reopened')\n",
        "plt.plot(keys, list(od2.values()), color = (0.9,0.4,0.2), label = 'Reopened')\n",
        "plt.legend()\n",
        "plt.savefig('FIG 5.pdf', dpi=500)"
      ]
    },
    {
      "cell_type": "code",
      "execution_count": 20,
      "metadata": {
        "colab": {
          "base_uri": "https://localhost:8080/"
        },
        "id": "JiUKYeXRWZcg",
        "outputId": "7e7e4a22-8463-40da-a65e-524fef7f928a"
      },
      "outputs": [
        {
          "output_type": "stream",
          "name": "stdout",
          "text": [
            "OrderedDict([(2008, 22), (2009, 310), (2010, 1204), (2011, 4240), (2012, 9667), (2013, 11903), (2014, 5496), (2015, 4053), (2016, 5112), (2017, 4900), (2018, 4086), (2019, 4013), (2020, 2751), (2021, 2278), (2022, 435)])\n"
          ]
        }
      ],
      "source": [
        "totalScorecount1 = []\n",
        "\n",
        "dict_logic = {}\n",
        "sum = 0\n",
        "for index in cd.index:\n",
        "  temp1 = cd['creation_date'][index]\n",
        "  \n",
        "  temp = datetime.strptime(temp1[0:10], \"%Y-%m-%d\")\n",
        "  if temp.year in dict_logic:\n",
        "    sum = dict_logic.get(temp.year) + cd['score'][index]\n",
        "    d1 = {temp.year: sum}\n",
        "    dict_logic.update(d1)\n",
        "  else:\n",
        "    dict_logic[temp.year] = cd['score'][index]\n",
        "od1 = collections.OrderedDict(sorted(dict_logic.items()))\n",
        "print((od1))"
      ]
    },
    {
      "cell_type": "code",
      "execution_count": 21,
      "metadata": {
        "colab": {
          "base_uri": "https://localhost:8080/",
          "height": 374
        },
        "id": "la9FYYAIWZhi",
        "outputId": "23fb7400-a7bb-41e1-9756-7ea97585cde7"
      },
      "outputs": [
        {
          "output_type": "stream",
          "name": "stdout",
          "text": [
            "OrderedDict([(2008, 0), (2009, 11339), (2010, 35759), (2011, 37528), (2012, 121334), (2013, 192300), (2014, 106267), (2015, 83620), (2016, 55303), (2017, 25263), (2018, 33963), (2019, 34814), (2020, 50446), (2021, 21983), (2022, 2853)])\n"
          ]
        },
        {
          "output_type": "display_data",
          "data": {
            "text/plain": [
              "<Figure size 1080x360 with 1 Axes>"
            ],
            "image/png": "[encoded data removed]"
          },
          "metadata": {
            "needs_background": "light"
          }
        }
      ],
      "source": [
        "totalScorecount2 = []\n",
        "\n",
        "dict_logic = {}\n",
        "sum = 0\n",
        "for index in rd.index:\n",
        "  temp1 = rd['creation_date'][index]\n",
        "  \n",
        "  temp = datetime.strptime(temp1[0:10], \"%Y-%m-%d\")\n",
        "  if temp.year in dict_logic:\n",
        "    sum = dict_logic.get(temp.year) + rd['score'][index]\n",
        "    d1 = {temp.year: sum}\n",
        "    dict_logic.update(d1)\n",
        "  else:\n",
        "    dict_logic[temp.year] = rd['score'][index]\n",
        "dict_logic[2008] = 0    \n",
        "od2 = collections.OrderedDict(sorted(dict_logic.items()))\n",
        "\n",
        "print(od2)\n",
        "\n",
        "keys = list(od1.keys())\n",
        "\n",
        "\n",
        "plt.figure(figsize=(15, 5))\n",
        "plt.xticks(rotation=90)\n",
        "plt.plot(keys, list(od1.values()), color = (0.6,0.4,0.5), label = 'Non-reopened')\n",
        "plt.plot(keys, list(od2.values()), color = (0.9,0.4,0.2), label = 'Reopened')\n",
        "plt.legend()\n",
        "plt.savefig('FIG 5.pdf', dpi=500)"
      ]
    },
    {
      "cell_type": "code",
      "execution_count": 22,
      "metadata": {
        "id": "uLAdTNHYWZpX"
      },
      "outputs": [],
      "source": [
        "import nltk"
      ]
    },
    {
      "cell_type": "code",
      "execution_count": 23,
      "metadata": {
        "colab": {
          "base_uri": "https://localhost:8080/"
        },
        "id": "mhnlFQ-8WZsv",
        "outputId": "2bf3813a-5a95-4a52-8c22-4719afd07075"
      },
      "outputs": [
        {
          "output_type": "stream",
          "name": "stderr",
          "text": [
            "[nltk_data] Downloading package vader_lexicon to /root/nltk_data...\n"
          ]
        },
        {
          "output_type": "execute_result",
          "data": {
            "text/plain": [
              "True"
            ]
          },
          "metadata": {},
          "execution_count": 23
        }
      ],
      "source": [
        "nltk.download(\"vader_lexicon\")"
      ]
    },
    {
      "cell_type": "code",
      "execution_count": 24,
      "metadata": {
        "id": "MT6zlx30WZv2"
      },
      "outputs": [],
      "source": [
        "from nltk.sentiment.vader import SentimentIntensityAnalyzer"
      ]
    },
    {
      "cell_type": "code",
      "execution_count": 25,
      "metadata": {
        "colab": {
          "base_uri": "https://localhost:8080/",
          "height": 54
        },
        "id": "EVeYZVBcn0T2",
        "outputId": "cdb227f3-48e1-4d94-c802-5322d72c65d0"
      },
      "outputs": [
        {
          "output_type": "execute_result",
          "data": {
            "text/plain": [
              "'<p>Can you provide me good tutorial about CodeIgniter and PDO? Is it good to use CodeIgniter framework with PDO? What are the pros and cons using PDO with CodeIgniter?</p>'"
            ],
            "application/vnd.google.colaboratory.intrinsic+json": {
              "type": "string"
            }
          },
          "metadata": {},
          "execution_count": 25
        }
      ],
      "source": [
        "cd.body[101]"
      ]
    },
    {
      "cell_type": "code",
      "execution_count": 26,
      "metadata": {
        "colab": {
          "base_uri": "https://localhost:8080/"
        },
        "id": "IiitBjWOn8Fc",
        "outputId": "82e9d777-53a0-486c-cc11-38b171ed7d8d"
      },
      "outputs": [
        {
          "output_type": "execute_result",
          "data": {
            "text/plain": [
              "{'neg': 0.0, 'neu': 0.81, 'pos': 0.19, 'compound': 0.7461}"
            ]
          },
          "metadata": {},
          "execution_count": 26
        }
      ],
      "source": [
        " \n",
        "analyzer = SentimentIntensityAnalyzer()\n",
        "analyzer.polarity_scores(cd.body[101])"
      ]
    },
    {
      "cell_type": "code",
      "execution_count": 27,
      "metadata": {
        "colab": {
          "base_uri": "https://localhost:8080/"
        },
        "id": "-NQnybB5CTE2",
        "outputId": "8a92e889-9c05-41d5-adf1-04883261dcf0"
      },
      "outputs": [
        {
          "output_type": "stream",
          "name": "stdout",
          "text": [
            "0        <p>Having recently come across <a href= http:/...\n",
            "1        <p>I'm looking for some good references for le...\n",
            "2        <p>Not able to compile and it is showing <stro...\n",
            "3        <p>Example: -</p> <pre><code>$arrayName = arra...\n",
            "4        <blockquote> <p><strong>Possible Duplicate:</s...\n",
            "                               ...                        \n",
            "33874    <pre><code>class HelloWorld { static int num1 ...\n",
            "33875    <p>I have made the code and there's no error b...\n",
            "33876    <p>Wrong question to ask so removing it. Pleas...\n",
            "33877    <p>I want to validate the phone number Like <c...\n",
            "33878    <p>A better way to explain my question is like...\n",
            "Name: body, Length: 31641, dtype: object\n"
          ]
        }
      ],
      "source": [
        "comments = cd.body\n",
        "print(comments)\n"
      ]
    },
    {
      "cell_type": "code",
      "execution_count": 28,
      "metadata": {
        "colab": {
          "base_uri": "https://localhost:8080/"
        },
        "id": "vZmPnuimG6u1",
        "outputId": "245bcb3c-e861-47ae-90c8-0b4b9f5fc940"
      },
      "outputs": [
        {
          "output_type": "stream",
          "name": "stdout",
          "text": [
            "31082\n"
          ]
        }
      ],
      "source": [
        "comments = rd.body\n",
        "# Initializing a dictionary to keep tally of results\n",
        "c=0\n",
        "for comments in comments:\n",
        "    score = analyzer.polarity_scores(comments)\n",
        "    if score['neu'] > 0.8 :\n",
        "      c = c + 1       \n",
        "print(c)  \n",
        "\n",
        "\n"
      ]
    },
    {
      "cell_type": "code",
      "source": [
        "print(score['neg'])"
      ],
      "metadata": {
        "colab": {
          "base_uri": "https://localhost:8080/"
        },
        "id": "pF0XN0w-vEti",
        "outputId": "3fcce11a-a570-4f2e-cfbb-2eb83ab5b95c"
      },
      "execution_count": 29,
      "outputs": [
        {
          "output_type": "stream",
          "name": "stdout",
          "text": [
            "0.0\n"
          ]
        }
      ]
    },
    {
      "cell_type": "code",
      "execution_count": 30,
      "metadata": {
        "colab": {
          "base_uri": "https://localhost:8080/"
        },
        "id": "EKHMeQRkqFAI",
        "outputId": "d00fe62c-be51-4998-a9b5-3a3da5e9db2d"
      },
      "outputs": [
        {
          "output_type": "stream",
          "name": "stdout",
          "text": [
            "29409\n"
          ]
        }
      ],
      "source": [
        "comments = cd.body\n",
        "# Initializing a dictionary to keep tally of results\n",
        "c=0\n",
        "for comments in comments:\n",
        "    score = analyzer.polarity_scores(comments)\n",
        "    if score['neu'] > 0.8 :\n",
        "      c = c + 1       \n",
        "print(c)  \n"
      ]
    },
    {
      "cell_type": "code",
      "execution_count": null,
      "metadata": {
        "id": "yyiLOAAFqFE8"
      },
      "outputs": [],
      "source": [
        ""
      ]
    },
    {
      "cell_type": "code",
      "execution_count": 31,
      "metadata": {
        "id": "8RDmPS3cWZ4a"
      },
      "outputs": [],
      "source": [
        "cd1 = cd.body\n",
        "def format_data(cd1):\n",
        "\n",
        "  last_col = str(data.columns[3])\n",
        "  first_col = str(data.columns[0])\n",
        "\n",
        "  data.rename(columns = {last_col: 'body', first_col: 'polarity'}, inplace=True) \n",
        "\n",
        "  # Change 0, 2, 4 to negative, neutral and positive\n",
        "  labels = {0: 'negative', 2: 'neutral', 4: 'positive'}\n",
        "  data['polarity'] = data['polarity'].map(labels)\n",
        "\n",
        "  # Get only the two columns\n",
        "  return data[['body', 'polarity']]\n"
      ]
    },
    {
      "cell_type": "code",
      "execution_count": null,
      "metadata": {
        "colab": {
          "base_uri": "https://localhost:8080/"
        },
        "id": "YE_f7PKEi7Sn",
        "outputId": "b7510712-07b7-45fd-9c1c-40bd943bef0c"
      },
      "outputs": [
        {
          "output_type": "execute_result",
          "data": {
            "text/plain": [
              "<bound method NDFrame.head of 0        <p>Having recently come across <a href= http:/...\n",
              "1        <p>I'm looking for some good references for le...\n",
              "2        <p>Not able to compile and it is showing <stro...\n",
              "3        <p>Example: -</p> <pre><code>$arrayName = arra...\n",
              "4        <blockquote> <p><strong>Possible Duplicate:</s...\n",
              "                               ...                        \n",
              "34869    <p>Now my MYSQL query is below.</p> <p>But in ...\n",
              "34870    <p>Is there a nicer way to compare the length ...\n",
              "34871    <p>Why if I use this function two times in the...\n",
              "34872    <p>I have 2 code snippets.</p> <p>Here is snip...\n",
              "34873    <p>I am trying to set up an array of string th...\n",
              "Name: body, Length: 32561, dtype: object>"
            ]
          },
          "metadata": {},
          "execution_count": 29
        }
      ],
      "source": [
        "cd1.head"
      ]
    },
    {
      "cell_type": "code",
      "source": [
        "rd.info()"
      ],
      "metadata": {
        "id": "LtFp6ax_4SJy",
        "colab": {
          "base_uri": "https://localhost:8080/"
        },
        "outputId": "c8ef7765-8062-4647-c4d2-4785e69b2715"
      },
      "execution_count": 33,
      "outputs": [
        {
          "output_type": "stream",
          "name": "stdout",
          "text": [
            "<class 'pandas.core.frame.DataFrame'>\n",
            "RangeIndex: 32561 entries, 0 to 32560\n",
            "Data columns (total 12 columns):\n",
            " #   Column                Non-Null Count  Dtype  \n",
            "---  ------                --------------  -----  \n",
            " 0   post_id               32561 non-null  int64  \n",
            " 1   post_history_type_id  32561 non-null  int64  \n",
            " 2   creation_date         32561 non-null  object \n",
            " 3   body                  32561 non-null  object \n",
            " 4   comment_count         32561 non-null  int64  \n",
            " 5   answer_count          32561 non-null  int64  \n",
            " 6   last_activity_date    32561 non-null  object \n",
            " 7   tags                  32560 non-null  object \n",
            " 8   owner_user_id         32145 non-null  float64\n",
            " 9   favorite_count        13781 non-null  float64\n",
            " 10  score                 32561 non-null  int64  \n",
            " 11  view_count            32561 non-null  int64  \n",
            "dtypes: float64(2), int64(6), object(4)\n",
            "memory usage: 3.0+ MB\n"
          ]
        }
      ]
    },
    {
      "cell_type": "code",
      "source": [
        "rd.head(10)"
      ],
      "metadata": {
        "colab": {
          "base_uri": "https://localhost:8080/",
          "height": 882
        },
        "id": "FqitsTBjZPqC",
        "outputId": "14228ebc-4d0d-45da-b216-7e562b5f06c4"
      },
      "execution_count": 34,
      "outputs": [
        {
          "output_type": "execute_result",
          "data": {
            "text/plain": [
              "    post_id  post_history_type_id                creation_date  \\\n",
              "0    421225                    11  2014-11-26 21:04:01.643 UTC   \n",
              "1  26563506                    11  2014-10-25 14:40:03.703 UTC   \n",
              "2  15207998                    11  2013-03-05 01:50:03.973 UTC   \n",
              "3   1173892                    11  2011-09-20 01:15:53.393 UTC   \n",
              "4    392397                    11    2016-03-03 15:06:20.3 UTC   \n",
              "5  23451115                    11  2014-05-04 15:50:11.977 UTC   \n",
              "6  20975219                    11  2014-01-07 16:44:42.933 UTC   \n",
              "7  29829102                    11  2015-04-27 10:07:15.683 UTC   \n",
              "8  23612317                    11  2014-05-13 13:57:46.647 UTC   \n",
              "9  21143603                    11  2014-01-15 17:25:16.437 UTC   \n",
              "\n",
              "                                                body  comment_count  \\\n",
              "0  <p>I'm try to install the SQLite gem on a Fedo...              3   \n",
              "1  <pre><code>#include &lt;unistd.h&gt; #include ...              8   \n",
              "2  <p>Do I need to pay for a license to be able t...              9   \n",
              "3  <p>So I have this page with the html code and ...              5   \n",
              "4  <p>As I was programming I haven't seen an inst...              1   \n",
              "5  <p>I have some links that I would like to prev...              0   \n",
              "6  <p>I would like to help me with an algorithmic...              1   \n",
              "7  <p>I'm trying to insert data into a MySQL tabl...              2   \n",
              "8  <p>To clarify: If a node doesn't exist how do ...              3   \n",
              "9  <p>I am parsing files with consists of ascii c...              4   \n",
              "\n",
              "   answer_count           last_activity_date  \\\n",
              "0            12  2016-05-12 12:33:46.633 UTC   \n",
              "1             4  2015-11-20 12:22:27.063 UTC   \n",
              "2             1   2014-01-28 00:50:26.37 UTC   \n",
              "3             2  2011-09-20 01:16:08.277 UTC   \n",
              "4             3    2016-03-03 15:06:20.3 UTC   \n",
              "5             1  2014-05-04 15:50:11.977 UTC   \n",
              "6             1  2014-01-07 17:09:21.683 UTC   \n",
              "7             1  2015-04-27 10:07:15.683 UTC   \n",
              "8             1  2014-05-14 19:46:38.707 UTC   \n",
              "9             1   2014-01-15 17:53:03.75 UTC   \n",
              "\n",
              "                                         tags  owner_user_id  favorite_count  \\\n",
              "0               ruby-on-rails|ruby|sqlite|gem        27515.0            19.0   \n",
              "1                                c|linux|fork            NaN             0.0   \n",
              "2  windows-phone-7|windows-phone-8|blackberry            NaN             NaN   \n",
              "3                javascript|html|greasemonkey            NaN             NaN   \n",
              "4                      arrays|data-structures        48214.0           147.0   \n",
              "5                         html|css|html5|css3      3126477.0             NaN   \n",
              "6                           c++|search|binary      3169549.0             NaN   \n",
              "7           php|jquery|mysql|html5|sql-insert      4690774.0             NaN   \n",
              "8                     c#|xml|linq|null|return      3325290.0             NaN   \n",
              "9                              python|unicode      1534898.0             NaN   \n",
              "\n",
              "   score  view_count  \n",
              "0     48       45940  \n",
              "1      0          66  \n",
              "2      5         885  \n",
              "3     -1         420  \n",
              "4    156       79780  \n",
              "5     -1         362  \n",
              "6     -1         377  \n",
              "7      0         202  \n",
              "8      0          79  \n",
              "9      0          74  "
            ],
            "text/html": [
              "\n",
              "  <div id=\"df-72f04df7-3bf5-402d-b225-387ebf1001e8\">\n",
              "    <div class=\"colab-df-container\">\n",
              "      <div>\n",
              "<style scoped>\n",
              "    .dataframe tbody tr th:only-of-type {\n",
              "        vertical-align: middle;\n",
              "    }\n",
              "\n",
              "    .dataframe tbody tr th {\n",
              "        vertical-align: top;\n",
              "    }\n",
              "\n",
              "    .dataframe thead th {\n",
              "        text-align: right;\n",
              "    }\n",
              "</style>\n",
              "<table border=\"1\" class=\"dataframe\">\n",
              "  <thead>\n",
              "    <tr style=\"text-align: right;\">\n",
              "      <th></th>\n",
              "      <th>post_id</th>\n",
              "      <th>post_history_type_id</th>\n",
              "      <th>creation_date</th>\n",
              "      <th>body</th>\n",
              "      <th>comment_count</th>\n",
              "      <th>answer_count</th>\n",
              "      <th>last_activity_date</th>\n",
              "      <th>tags</th>\n",
              "      <th>owner_user_id</th>\n",
              "      <th>favorite_count</th>\n",
              "      <th>score</th>\n",
              "      <th>view_count</th>\n",
              "    </tr>\n",
              "  </thead>\n",
              "  <tbody>\n",
              "    <tr>\n",
              "      <th>0</th>\n",
              "      <td>421225</td>\n",
              "      <td>11</td>\n",
              "      <td>2014-11-26 21:04:01.643 UTC</td>\n",
              "      <td>&lt;p&gt;I'm try to install the SQLite gem on a Fedo...</td>\n",
              "      <td>3</td>\n",
              "      <td>12</td>\n",
              "      <td>2016-05-12 12:33:46.633 UTC</td>\n",
              "      <td>ruby-on-rails|ruby|sqlite|gem</td>\n",
              "      <td>27515.0</td>\n",
              "      <td>19.0</td>\n",
              "      <td>48</td>\n",
              "      <td>45940</td>\n",
              "    </tr>\n",
              "    <tr>\n",
              "      <th>1</th>\n",
              "      <td>26563506</td>\n",
              "      <td>11</td>\n",
              "      <td>2014-10-25 14:40:03.703 UTC</td>\n",
              "      <td>&lt;pre&gt;&lt;code&gt;#include &amp;lt;unistd.h&amp;gt; #include ...</td>\n",
              "      <td>8</td>\n",
              "      <td>4</td>\n",
              "      <td>2015-11-20 12:22:27.063 UTC</td>\n",
              "      <td>c|linux|fork</td>\n",
              "      <td>NaN</td>\n",
              "      <td>0.0</td>\n",
              "      <td>0</td>\n",
              "      <td>66</td>\n",
              "    </tr>\n",
              "    <tr>\n",
              "      <th>2</th>\n",
              "      <td>15207998</td>\n",
              "      <td>11</td>\n",
              "      <td>2013-03-05 01:50:03.973 UTC</td>\n",
              "      <td>&lt;p&gt;Do I need to pay for a license to be able t...</td>\n",
              "      <td>9</td>\n",
              "      <td>1</td>\n",
              "      <td>2014-01-28 00:50:26.37 UTC</td>\n",
              "      <td>windows-phone-7|windows-phone-8|blackberry</td>\n",
              "      <td>NaN</td>\n",
              "      <td>NaN</td>\n",
              "      <td>5</td>\n",
              "      <td>885</td>\n",
              "    </tr>\n",
              "    <tr>\n",
              "      <th>3</th>\n",
              "      <td>1173892</td>\n",
              "      <td>11</td>\n",
              "      <td>2011-09-20 01:15:53.393 UTC</td>\n",
              "      <td>&lt;p&gt;So I have this page with the html code and ...</td>\n",
              "      <td>5</td>\n",
              "      <td>2</td>\n",
              "      <td>2011-09-20 01:16:08.277 UTC</td>\n",
              "      <td>javascript|html|greasemonkey</td>\n",
              "      <td>NaN</td>\n",
              "      <td>NaN</td>\n",
              "      <td>-1</td>\n",
              "      <td>420</td>\n",
              "    </tr>\n",
              "    <tr>\n",
              "      <th>4</th>\n",
              "      <td>392397</td>\n",
              "      <td>11</td>\n",
              "      <td>2016-03-03 15:06:20.3 UTC</td>\n",
              "      <td>&lt;p&gt;As I was programming I haven't seen an inst...</td>\n",
              "      <td>1</td>\n",
              "      <td>3</td>\n",
              "      <td>2016-03-03 15:06:20.3 UTC</td>\n",
              "      <td>arrays|data-structures</td>\n",
              "      <td>48214.0</td>\n",
              "      <td>147.0</td>\n",
              "      <td>156</td>\n",
              "      <td>79780</td>\n",
              "    </tr>\n",
              "    <tr>\n",
              "      <th>5</th>\n",
              "      <td>23451115</td>\n",
              "      <td>11</td>\n",
              "      <td>2014-05-04 15:50:11.977 UTC</td>\n",
              "      <td>&lt;p&gt;I have some links that I would like to prev...</td>\n",
              "      <td>0</td>\n",
              "      <td>1</td>\n",
              "      <td>2014-05-04 15:50:11.977 UTC</td>\n",
              "      <td>html|css|html5|css3</td>\n",
              "      <td>3126477.0</td>\n",
              "      <td>NaN</td>\n",
              "      <td>-1</td>\n",
              "      <td>362</td>\n",
              "    </tr>\n",
              "    <tr>\n",
              "      <th>6</th>\n",
              "      <td>20975219</td>\n",
              "      <td>11</td>\n",
              "      <td>2014-01-07 16:44:42.933 UTC</td>\n",
              "      <td>&lt;p&gt;I would like to help me with an algorithmic...</td>\n",
              "      <td>1</td>\n",
              "      <td>1</td>\n",
              "      <td>2014-01-07 17:09:21.683 UTC</td>\n",
              "      <td>c++|search|binary</td>\n",
              "      <td>3169549.0</td>\n",
              "      <td>NaN</td>\n",
              "      <td>-1</td>\n",
              "      <td>377</td>\n",
              "    </tr>\n",
              "    <tr>\n",
              "      <th>7</th>\n",
              "      <td>29829102</td>\n",
              "      <td>11</td>\n",
              "      <td>2015-04-27 10:07:15.683 UTC</td>\n",
              "      <td>&lt;p&gt;I'm trying to insert data into a MySQL tabl...</td>\n",
              "      <td>2</td>\n",
              "      <td>1</td>\n",
              "      <td>2015-04-27 10:07:15.683 UTC</td>\n",
              "      <td>php|jquery|mysql|html5|sql-insert</td>\n",
              "      <td>4690774.0</td>\n",
              "      <td>NaN</td>\n",
              "      <td>0</td>\n",
              "      <td>202</td>\n",
              "    </tr>\n",
              "    <tr>\n",
              "      <th>8</th>\n",
              "      <td>23612317</td>\n",
              "      <td>11</td>\n",
              "      <td>2014-05-13 13:57:46.647 UTC</td>\n",
              "      <td>&lt;p&gt;To clarify: If a node doesn't exist how do ...</td>\n",
              "      <td>3</td>\n",
              "      <td>1</td>\n",
              "      <td>2014-05-14 19:46:38.707 UTC</td>\n",
              "      <td>c#|xml|linq|null|return</td>\n",
              "      <td>3325290.0</td>\n",
              "      <td>NaN</td>\n",
              "      <td>0</td>\n",
              "      <td>79</td>\n",
              "    </tr>\n",
              "    <tr>\n",
              "      <th>9</th>\n",
              "      <td>21143603</td>\n",
              "      <td>11</td>\n",
              "      <td>2014-01-15 17:25:16.437 UTC</td>\n",
              "      <td>&lt;p&gt;I am parsing files with consists of ascii c...</td>\n",
              "      <td>4</td>\n",
              "      <td>1</td>\n",
              "      <td>2014-01-15 17:53:03.75 UTC</td>\n",
              "      <td>python|unicode</td>\n",
              "      <td>1534898.0</td>\n",
              "      <td>NaN</td>\n",
              "      <td>0</td>\n",
              "      <td>74</td>\n",
              "    </tr>\n",
              "  </tbody>\n",
              "</table>\n",
              "</div>\n",
              "      <button class=\"colab-df-convert\" onclick=\"convertToInteractive('df-72f04df7-3bf5-402d-b225-387ebf1001e8')\"\n",
              "              title=\"Convert this dataframe to an interactive table.\"\n",
              "              style=\"display:none;\">\n",
              "        \n",
              "  <svg xmlns=\"http://www.w3.org/2000/svg\" height=\"24px\"viewBox=\"0 0 24 24\"\n",
              "       width=\"24px\">\n",
              "    <path d=\"M0 0h24v24H0V0z\" fill=\"none\"/>\n",
              "    <path d=\"M18.56 5.44l.94 2.06.94-2.06 2.06-.94-2.06-.94-.94-2.06-.94 2.06-2.06.94zm-11 1L8.5 8.5l.94-2.06 2.06-.94-2.06-.94L8.5 2.5l-.94 2.06-2.06.94zm10 10l.94 2.06.94-2.06 2.06-.94-2.06-.94-.94-2.06-.94 2.06-2.06.94z\"/><path d=\"M17.41 7.96l-1.37-1.37c-.4-.4-.92-.59-1.43-.59-.52 0-1.04.2-1.43.59L10.3 9.45l-7.72 7.72c-.78.78-.78 2.05 0 2.83L4 21.41c.39.39.9.59 1.41.59.51 0 1.02-.2 1.41-.59l7.78-7.78 2.81-2.81c.8-.78.8-2.07 0-2.86zM5.41 20L4 18.59l7.72-7.72 1.47 1.35L5.41 20z\"/>\n",
              "  </svg>\n",
              "      </button>\n",
              "      \n",
              "  <style>\n",
              "    .colab-df-container {\n",
              "      display:flex;\n",
              "      flex-wrap:wrap;\n",
              "      gap: 12px;\n",
              "    }\n",
              "\n",
              "    .colab-df-convert {\n",
              "      background-color: #E8F0FE;\n",
              "      border: none;\n",
              "      border-radius: 50%;\n",
              "      cursor: pointer;\n",
              "      display: none;\n",
              "      fill: #1967D2;\n",
              "      height: 32px;\n",
              "      padding: 0 0 0 0;\n",
              "      width: 32px;\n",
              "    }\n",
              "\n",
              "    .colab-df-convert:hover {\n",
              "      background-color: #E2EBFA;\n",
              "      box-shadow: 0px 1px 2px rgba(60, 64, 67, 0.3), 0px 1px 3px 1px rgba(60, 64, 67, 0.15);\n",
              "      fill: #174EA6;\n",
              "    }\n",
              "\n",
              "    [theme=dark] .colab-df-convert {\n",
              "      background-color: #3B4455;\n",
              "      fill: #D2E3FC;\n",
              "    }\n",
              "\n",
              "    [theme=dark] .colab-df-convert:hover {\n",
              "      background-color: #434B5C;\n",
              "      box-shadow: 0px 1px 3px 1px rgba(0, 0, 0, 0.15);\n",
              "      filter: drop-shadow(0px 1px 2px rgba(0, 0, 0, 0.3));\n",
              "      fill: #FFFFFF;\n",
              "    }\n",
              "  </style>\n",
              "\n",
              "      <script>\n",
              "        const buttonEl =\n",
              "          document.querySelector('#df-72f04df7-3bf5-402d-b225-387ebf1001e8 button.colab-df-convert');\n",
              "        buttonEl.style.display =\n",
              "          google.colab.kernel.accessAllowed ? 'block' : 'none';\n",
              "\n",
              "        async function convertToInteractive(key) {\n",
              "          const element = document.querySelector('#df-72f04df7-3bf5-402d-b225-387ebf1001e8');\n",
              "          const dataTable =\n",
              "            await google.colab.kernel.invokeFunction('convertToInteractive',\n",
              "                                                     [key], {});\n",
              "          if (!dataTable) return;\n",
              "\n",
              "          const docLinkHtml = 'Like what you see? Visit the ' +\n",
              "            '<a target=\"_blank\" href=https://colab.research.google.com/notebooks/data_table.ipynb>data table notebook</a>'\n",
              "            + ' to learn more about interactive tables.';\n",
              "          element.innerHTML = '';\n",
              "          dataTable['output_type'] = 'display_data';\n",
              "          await google.colab.output.renderOutput(dataTable, element);\n",
              "          const docLink = document.createElement('div');\n",
              "          docLink.innerHTML = docLinkHtml;\n",
              "          element.appendChild(docLink);\n",
              "        }\n",
              "      </script>\n",
              "    </div>\n",
              "  </div>\n",
              "  "
            ]
          },
          "metadata": {},
          "execution_count": 34
        }
      ]
    },
    {
      "cell_type": "code",
      "source": [
        "input = pd.read_csv(\"/content/drive/MyDrive/reopened_dataset.csv\")"
      ],
      "metadata": {
        "id": "H_E8nItNZ8Yn"
      },
      "execution_count": 36,
      "outputs": []
    },
    {
      "cell_type": "code",
      "source": [
        "input.info()"
      ],
      "metadata": {
        "id": "YGbgwD9UnOvh",
        "colab": {
          "base_uri": "https://localhost:8080/"
        },
        "outputId": "8c890a48-6bfc-49d4-f04e-e227af4c9858"
      },
      "execution_count": 39,
      "outputs": [
        {
          "output_type": "stream",
          "name": "stdout",
          "text": [
            "<class 'pandas.core.frame.DataFrame'>\n",
            "RangeIndex: 32561 entries, 0 to 32560\n",
            "Data columns (total 12 columns):\n",
            " #   Column                Non-Null Count  Dtype  \n",
            "---  ------                --------------  -----  \n",
            " 0   post_id               32561 non-null  int64  \n",
            " 1   post_history_type_id  32561 non-null  int64  \n",
            " 2   creation_date         32561 non-null  object \n",
            " 3   body                  32561 non-null  object \n",
            " 4   comment_count         32561 non-null  int64  \n",
            " 5   answer_count          32561 non-null  int64  \n",
            " 6   last_activity_date    32561 non-null  object \n",
            " 7   tags                  32560 non-null  object \n",
            " 8   owner_user_id         32145 non-null  float64\n",
            " 9   favorite_count        13781 non-null  float64\n",
            " 10  score                 32561 non-null  int64  \n",
            " 11  view_count            32561 non-null  int64  \n",
            "dtypes: float64(2), int64(6), object(4)\n",
            "memory usage: 3.0+ MB\n"
          ]
        }
      ]
    },
    {
      "cell_type": "code",
      "source": [
        "input.head(10)"
      ],
      "metadata": {
        "colab": {
          "base_uri": "https://localhost:8080/",
          "height": 882
        },
        "id": "ix_dqu9ja8Hg",
        "outputId": "959b3d17-fee8-4911-a450-0c1473eaf96f"
      },
      "execution_count": 40,
      "outputs": [
        {
          "output_type": "execute_result",
          "data": {
            "text/plain": [
              "    post_id  post_history_type_id                creation_date  \\\n",
              "0    421225                    11  2014-11-26 21:04:01.643 UTC   \n",
              "1  26563506                    11  2014-10-25 14:40:03.703 UTC   \n",
              "2  15207998                    11  2013-03-05 01:50:03.973 UTC   \n",
              "3   1173892                    11  2011-09-20 01:15:53.393 UTC   \n",
              "4    392397                    11    2016-03-03 15:06:20.3 UTC   \n",
              "5  23451115                    11  2014-05-04 15:50:11.977 UTC   \n",
              "6  20975219                    11  2014-01-07 16:44:42.933 UTC   \n",
              "7  29829102                    11  2015-04-27 10:07:15.683 UTC   \n",
              "8  23612317                    11  2014-05-13 13:57:46.647 UTC   \n",
              "9  21143603                    11  2014-01-15 17:25:16.437 UTC   \n",
              "\n",
              "                                                body  comment_count  \\\n",
              "0  <p>I'm try to install the SQLite gem on a Fedo...              3   \n",
              "1  <pre><code>#include &lt;unistd.h&gt; #include ...              8   \n",
              "2  <p>Do I need to pay for a license to be able t...              9   \n",
              "3  <p>So I have this page with the html code and ...              5   \n",
              "4  <p>As I was programming I haven't seen an inst...              1   \n",
              "5  <p>I have some links that I would like to prev...              0   \n",
              "6  <p>I would like to help me with an algorithmic...              1   \n",
              "7  <p>I'm trying to insert data into a MySQL tabl...              2   \n",
              "8  <p>To clarify: If a node doesn't exist how do ...              3   \n",
              "9  <p>I am parsing files with consists of ascii c...              4   \n",
              "\n",
              "   answer_count           last_activity_date  \\\n",
              "0            12  2016-05-12 12:33:46.633 UTC   \n",
              "1             4  2015-11-20 12:22:27.063 UTC   \n",
              "2             1   2014-01-28 00:50:26.37 UTC   \n",
              "3             2  2011-09-20 01:16:08.277 UTC   \n",
              "4             3    2016-03-03 15:06:20.3 UTC   \n",
              "5             1  2014-05-04 15:50:11.977 UTC   \n",
              "6             1  2014-01-07 17:09:21.683 UTC   \n",
              "7             1  2015-04-27 10:07:15.683 UTC   \n",
              "8             1  2014-05-14 19:46:38.707 UTC   \n",
              "9             1   2014-01-15 17:53:03.75 UTC   \n",
              "\n",
              "                                         tags  owner_user_id  favorite_count  \\\n",
              "0               ruby-on-rails|ruby|sqlite|gem        27515.0            19.0   \n",
              "1                                c|linux|fork            NaN             0.0   \n",
              "2  windows-phone-7|windows-phone-8|blackberry            NaN             NaN   \n",
              "3                javascript|html|greasemonkey            NaN             NaN   \n",
              "4                      arrays|data-structures        48214.0           147.0   \n",
              "5                         html|css|html5|css3      3126477.0             NaN   \n",
              "6                           c++|search|binary      3169549.0             NaN   \n",
              "7           php|jquery|mysql|html5|sql-insert      4690774.0             NaN   \n",
              "8                     c#|xml|linq|null|return      3325290.0             NaN   \n",
              "9                              python|unicode      1534898.0             NaN   \n",
              "\n",
              "   score  view_count  \n",
              "0     48       45940  \n",
              "1      0          66  \n",
              "2      5         885  \n",
              "3     -1         420  \n",
              "4    156       79780  \n",
              "5     -1         362  \n",
              "6     -1         377  \n",
              "7      0         202  \n",
              "8      0          79  \n",
              "9      0          74  "
            ],
            "text/html": [
              "\n",
              "  <div id=\"df-7ba80afa-a48c-4723-9584-3c996bea13f7\">\n",
              "    <div class=\"colab-df-container\">\n",
              "      <div>\n",
              "<style scoped>\n",
              "    .dataframe tbody tr th:only-of-type {\n",
              "        vertical-align: middle;\n",
              "    }\n",
              "\n",
              "    .dataframe tbody tr th {\n",
              "        vertical-align: top;\n",
              "    }\n",
              "\n",
              "    .dataframe thead th {\n",
              "        text-align: right;\n",
              "    }\n",
              "</style>\n",
              "<table border=\"1\" class=\"dataframe\">\n",
              "  <thead>\n",
              "    <tr style=\"text-align: right;\">\n",
              "      <th></th>\n",
              "      <th>post_id</th>\n",
              "      <th>post_history_type_id</th>\n",
              "      <th>creation_date</th>\n",
              "      <th>body</th>\n",
              "      <th>comment_count</th>\n",
              "      <th>answer_count</th>\n",
              "      <th>last_activity_date</th>\n",
              "      <th>tags</th>\n",
              "      <th>owner_user_id</th>\n",
              "      <th>favorite_count</th>\n",
              "      <th>score</th>\n",
              "      <th>view_count</th>\n",
              "    </tr>\n",
              "  </thead>\n",
              "  <tbody>\n",
              "    <tr>\n",
              "      <th>0</th>\n",
              "      <td>421225</td>\n",
              "      <td>11</td>\n",
              "      <td>2014-11-26 21:04:01.643 UTC</td>\n",
              "      <td>&lt;p&gt;I'm try to install the SQLite gem on a Fedo...</td>\n",
              "      <td>3</td>\n",
              "      <td>12</td>\n",
              "      <td>2016-05-12 12:33:46.633 UTC</td>\n",
              "      <td>ruby-on-rails|ruby|sqlite|gem</td>\n",
              "      <td>27515.0</td>\n",
              "      <td>19.0</td>\n",
              "      <td>48</td>\n",
              "      <td>45940</td>\n",
              "    </tr>\n",
              "    <tr>\n",
              "      <th>1</th>\n",
              "      <td>26563506</td>\n",
              "      <td>11</td>\n",
              "      <td>2014-10-25 14:40:03.703 UTC</td>\n",
              "      <td>&lt;pre&gt;&lt;code&gt;#include &amp;lt;unistd.h&amp;gt; #include ...</td>\n",
              "      <td>8</td>\n",
              "      <td>4</td>\n",
              "      <td>2015-11-20 12:22:27.063 UTC</td>\n",
              "      <td>c|linux|fork</td>\n",
              "      <td>NaN</td>\n",
              "      <td>0.0</td>\n",
              "      <td>0</td>\n",
              "      <td>66</td>\n",
              "    </tr>\n",
              "    <tr>\n",
              "      <th>2</th>\n",
              "      <td>15207998</td>\n",
              "      <td>11</td>\n",
              "      <td>2013-03-05 01:50:03.973 UTC</td>\n",
              "      <td>&lt;p&gt;Do I need to pay for a license to be able t...</td>\n",
              "      <td>9</td>\n",
              "      <td>1</td>\n",
              "      <td>2014-01-28 00:50:26.37 UTC</td>\n",
              "      <td>windows-phone-7|windows-phone-8|blackberry</td>\n",
              "      <td>NaN</td>\n",
              "      <td>NaN</td>\n",
              "      <td>5</td>\n",
              "      <td>885</td>\n",
              "    </tr>\n",
              "    <tr>\n",
              "      <th>3</th>\n",
              "      <td>1173892</td>\n",
              "      <td>11</td>\n",
              "      <td>2011-09-20 01:15:53.393 UTC</td>\n",
              "      <td>&lt;p&gt;So I have this page with the html code and ...</td>\n",
              "      <td>5</td>\n",
              "      <td>2</td>\n",
              "      <td>2011-09-20 01:16:08.277 UTC</td>\n",
              "      <td>javascript|html|greasemonkey</td>\n",
              "      <td>NaN</td>\n",
              "      <td>NaN</td>\n",
              "      <td>-1</td>\n",
              "      <td>420</td>\n",
              "    </tr>\n",
              "    <tr>\n",
              "      <th>4</th>\n",
              "      <td>392397</td>\n",
              "      <td>11</td>\n",
              "      <td>2016-03-03 15:06:20.3 UTC</td>\n",
              "      <td>&lt;p&gt;As I was programming I haven't seen an inst...</td>\n",
              "      <td>1</td>\n",
              "      <td>3</td>\n",
              "      <td>2016-03-03 15:06:20.3 UTC</td>\n",
              "      <td>arrays|data-structures</td>\n",
              "      <td>48214.0</td>\n",
              "      <td>147.0</td>\n",
              "      <td>156</td>\n",
              "      <td>79780</td>\n",
              "    </tr>\n",
              "    <tr>\n",
              "      <th>5</th>\n",
              "      <td>23451115</td>\n",
              "      <td>11</td>\n",
              "      <td>2014-05-04 15:50:11.977 UTC</td>\n",
              "      <td>&lt;p&gt;I have some links that I would like to prev...</td>\n",
              "      <td>0</td>\n",
              "      <td>1</td>\n",
              "      <td>2014-05-04 15:50:11.977 UTC</td>\n",
              "      <td>html|css|html5|css3</td>\n",
              "      <td>3126477.0</td>\n",
              "      <td>NaN</td>\n",
              "      <td>-1</td>\n",
              "      <td>362</td>\n",
              "    </tr>\n",
              "    <tr>\n",
              "      <th>6</th>\n",
              "      <td>20975219</td>\n",
              "      <td>11</td>\n",
              "      <td>2014-01-07 16:44:42.933 UTC</td>\n",
              "      <td>&lt;p&gt;I would like to help me with an algorithmic...</td>\n",
              "      <td>1</td>\n",
              "      <td>1</td>\n",
              "      <td>2014-01-07 17:09:21.683 UTC</td>\n",
              "      <td>c++|search|binary</td>\n",
              "      <td>3169549.0</td>\n",
              "      <td>NaN</td>\n",
              "      <td>-1</td>\n",
              "      <td>377</td>\n",
              "    </tr>\n",
              "    <tr>\n",
              "      <th>7</th>\n",
              "      <td>29829102</td>\n",
              "      <td>11</td>\n",
              "      <td>2015-04-27 10:07:15.683 UTC</td>\n",
              "      <td>&lt;p&gt;I'm trying to insert data into a MySQL tabl...</td>\n",
              "      <td>2</td>\n",
              "      <td>1</td>\n",
              "      <td>2015-04-27 10:07:15.683 UTC</td>\n",
              "      <td>php|jquery|mysql|html5|sql-insert</td>\n",
              "      <td>4690774.0</td>\n",
              "      <td>NaN</td>\n",
              "      <td>0</td>\n",
              "      <td>202</td>\n",
              "    </tr>\n",
              "    <tr>\n",
              "      <th>8</th>\n",
              "      <td>23612317</td>\n",
              "      <td>11</td>\n",
              "      <td>2014-05-13 13:57:46.647 UTC</td>\n",
              "      <td>&lt;p&gt;To clarify: If a node doesn't exist how do ...</td>\n",
              "      <td>3</td>\n",
              "      <td>1</td>\n",
              "      <td>2014-05-14 19:46:38.707 UTC</td>\n",
              "      <td>c#|xml|linq|null|return</td>\n",
              "      <td>3325290.0</td>\n",
              "      <td>NaN</td>\n",
              "      <td>0</td>\n",
              "      <td>79</td>\n",
              "    </tr>\n",
              "    <tr>\n",
              "      <th>9</th>\n",
              "      <td>21143603</td>\n",
              "      <td>11</td>\n",
              "      <td>2014-01-15 17:25:16.437 UTC</td>\n",
              "      <td>&lt;p&gt;I am parsing files with consists of ascii c...</td>\n",
              "      <td>4</td>\n",
              "      <td>1</td>\n",
              "      <td>2014-01-15 17:53:03.75 UTC</td>\n",
              "      <td>python|unicode</td>\n",
              "      <td>1534898.0</td>\n",
              "      <td>NaN</td>\n",
              "      <td>0</td>\n",
              "      <td>74</td>\n",
              "    </tr>\n",
              "  </tbody>\n",
              "</table>\n",
              "</div>\n",
              "      <button class=\"colab-df-convert\" onclick=\"convertToInteractive('df-7ba80afa-a48c-4723-9584-3c996bea13f7')\"\n",
              "              title=\"Convert this dataframe to an interactive table.\"\n",
              "              style=\"display:none;\">\n",
              "        \n",
              "  <svg xmlns=\"http://www.w3.org/2000/svg\" height=\"24px\"viewBox=\"0 0 24 24\"\n",
              "       width=\"24px\">\n",
              "    <path d=\"M0 0h24v24H0V0z\" fill=\"none\"/>\n",
              "    <path d=\"M18.56 5.44l.94 2.06.94-2.06 2.06-.94-2.06-.94-.94-2.06-.94 2.06-2.06.94zm-11 1L8.5 8.5l.94-2.06 2.06-.94-2.06-.94L8.5 2.5l-.94 2.06-2.06.94zm10 10l.94 2.06.94-2.06 2.06-.94-2.06-.94-.94-2.06-.94 2.06-2.06.94z\"/><path d=\"M17.41 7.96l-1.37-1.37c-.4-.4-.92-.59-1.43-.59-.52 0-1.04.2-1.43.59L10.3 9.45l-7.72 7.72c-.78.78-.78 2.05 0 2.83L4 21.41c.39.39.9.59 1.41.59.51 0 1.02-.2 1.41-.59l7.78-7.78 2.81-2.81c.8-.78.8-2.07 0-2.86zM5.41 20L4 18.59l7.72-7.72 1.47 1.35L5.41 20z\"/>\n",
              "  </svg>\n",
              "      </button>\n",
              "      \n",
              "  <style>\n",
              "    .colab-df-container {\n",
              "      display:flex;\n",
              "      flex-wrap:wrap;\n",
              "      gap: 12px;\n",
              "    }\n",
              "\n",
              "    .colab-df-convert {\n",
              "      background-color: #E8F0FE;\n",
              "      border: none;\n",
              "      border-radius: 50%;\n",
              "      cursor: pointer;\n",
              "      display: none;\n",
              "      fill: #1967D2;\n",
              "      height: 32px;\n",
              "      padding: 0 0 0 0;\n",
              "      width: 32px;\n",
              "    }\n",
              "\n",
              "    .colab-df-convert:hover {\n",
              "      background-color: #E2EBFA;\n",
              "      box-shadow: 0px 1px 2px rgba(60, 64, 67, 0.3), 0px 1px 3px 1px rgba(60, 64, 67, 0.15);\n",
              "      fill: #174EA6;\n",
              "    }\n",
              "\n",
              "    [theme=dark] .colab-df-convert {\n",
              "      background-color: #3B4455;\n",
              "      fill: #D2E3FC;\n",
              "    }\n",
              "\n",
              "    [theme=dark] .colab-df-convert:hover {\n",
              "      background-color: #434B5C;\n",
              "      box-shadow: 0px 1px 3px 1px rgba(0, 0, 0, 0.15);\n",
              "      filter: drop-shadow(0px 1px 2px rgba(0, 0, 0, 0.3));\n",
              "      fill: #FFFFFF;\n",
              "    }\n",
              "  </style>\n",
              "\n",
              "      <script>\n",
              "        const buttonEl =\n",
              "          document.querySelector('#df-7ba80afa-a48c-4723-9584-3c996bea13f7 button.colab-df-convert');\n",
              "        buttonEl.style.display =\n",
              "          google.colab.kernel.accessAllowed ? 'block' : 'none';\n",
              "\n",
              "        async function convertToInteractive(key) {\n",
              "          const element = document.querySelector('#df-7ba80afa-a48c-4723-9584-3c996bea13f7');\n",
              "          const dataTable =\n",
              "            await google.colab.kernel.invokeFunction('convertToInteractive',\n",
              "                                                     [key], {});\n",
              "          if (!dataTable) return;\n",
              "\n",
              "          const docLinkHtml = 'Like what you see? Visit the ' +\n",
              "            '<a target=\"_blank\" href=https://colab.research.google.com/notebooks/data_table.ipynb>data table notebook</a>'\n",
              "            + ' to learn more about interactive tables.';\n",
              "          element.innerHTML = '';\n",
              "          dataTable['output_type'] = 'display_data';\n",
              "          await google.colab.output.renderOutput(dataTable, element);\n",
              "          const docLink = document.createElement('div');\n",
              "          docLink.innerHTML = docLinkHtml;\n",
              "          element.appendChild(docLink);\n",
              "        }\n",
              "      </script>\n",
              "    </div>\n",
              "  </div>\n",
              "  "
            ]
          },
          "metadata": {},
          "execution_count": 40
        }
      ]
    },
    {
      "cell_type": "code",
      "source": [
        ""
      ],
      "metadata": {
        "id": "v-nbS51wa8Nh"
      },
      "execution_count": null,
      "outputs": []
    },
    {
      "cell_type": "code",
      "source": [
        ""
      ],
      "metadata": {
        "id": "0Tt5-j0tnOy4"
      },
      "execution_count": null,
      "outputs": []
    }
  ],
  "metadata": {
    "colab": {
      "collapsed_sections": [],
      "name": "project5800.ipynb",
      "provenance": [],
      "mount_file_id": "1IZWGW04GUvQ0JZo8I4Zn3aBbp8nf0x97",
      "authorship_tag": "ABX9TyMAa16CD3CB+pCRL6p0YNTE",
      "include_colab_link": true
    },
    "kernelspec": {
      "display_name": "Python 3",
      "name": "python3"
    },
    "language_info": {
      "name": "python"
    }
  },
  "nbformat": 4,
  "nbformat_minor": 0
}